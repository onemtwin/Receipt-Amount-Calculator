{
 "cells": [
  {
   "cell_type": "markdown",
   "id": "b21b7480-ea72-4f64-8c99-e8c43198de01",
   "metadata": {},
   "source": [
    "# RECEIPT AMOUNT CALCULATOR\n",
    "* The program calculates the total of the prices inputted by the user and displays the Sum."
   ]
  },
  {
   "cell_type": "code",
   "execution_count": 29,
   "id": "5847c96c-54d6-425b-a323-1d6289484b01",
   "metadata": {},
   "outputs": [
    {
     "name": "stdin",
     "output_type": "stream",
     "text": [
      "Enter the price of the commodity (Or type 'done' to quit adding prices) :  100\n",
      "Enter the price of the commodity (Or type 'done' to quit adding prices) :  200\n",
      "Enter the price of the commodity (Or type 'done' to quit adding prices) :  400\n",
      "Enter the price of the commodity (Or type 'done' to quit adding prices) :  900\n",
      "Enter the price of the commodity (Or type 'done' to quit adding prices) :  00\n"
     ]
    },
    {
     "name": "stdout",
     "output_type": "stream",
     "text": [
      "Prices Entered :  [100, 200, 400, 900]\n",
      "total_sum :  1600\n"
     ]
    }
   ],
   "source": [
    "# Prompting the user to input the prices infinitely\n",
    "def main():\n",
    "    prices=[]\n",
    "    while True:\n",
    "        # prompt the user for prices\n",
    "        price = int(input(\"Enter the price of the commodity (Or type 'done' to quit adding prices) : \"))\n",
    "\n",
    "        # check if the user wants to stop \n",
    "        if price==00:\n",
    "            break\n",
    "        # try to convert the input to a number \n",
    "        try:\n",
    "            number =float(price)\n",
    "            prices.append(price)\n",
    "            \n",
    "        except ValueError:\n",
    "            print(\"Invalid input, please enter a price\")\n",
    "            \n",
    "        # calculate the sum of the prices\n",
    "        total_sum=sum(prices)\n",
    "\n",
    "        # print the individual prices and their sum\n",
    "    print(\"Prices Entered : \",prices)\n",
    "    print(\"total_sum : \",total_sum)\n",
    "\n",
    "if __name__==\"__main__\":\n",
    "    main()"
   ]
  },
  {
   "cell_type": "code",
   "execution_count": null,
   "id": "529a1e14-51ab-496e-87a2-2b9aff4134da",
   "metadata": {},
   "outputs": [],
   "source": []
  }
 ],
 "metadata": {
  "kernelspec": {
   "display_name": "Python 3 (ipykernel)",
   "language": "python",
   "name": "python3"
  },
  "language_info": {
   "codemirror_mode": {
    "name": "ipython",
    "version": 3
   },
   "file_extension": ".py",
   "mimetype": "text/x-python",
   "name": "python",
   "nbconvert_exporter": "python",
   "pygments_lexer": "ipython3",
   "version": "3.12.4"
  }
 },
 "nbformat": 4,
 "nbformat_minor": 5
}
